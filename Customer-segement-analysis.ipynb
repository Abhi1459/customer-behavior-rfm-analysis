{
 "cells": [
  {
   "cell_type": "code",
   "execution_count": 656,
   "id": "e9e3619b-467b-4388-85f6-c9262897884c",
   "metadata": {},
   "outputs": [
    {
     "name": "stdout",
     "output_type": "stream",
     "text": [
      "<class 'pandas.core.frame.DataFrame'>\n",
      "RangeIndex: 541909 entries, 0 to 541908\n",
      "Data columns (total 8 columns):\n",
      " #   Column       Non-Null Count   Dtype  \n",
      "---  ------       --------------   -----  \n",
      " 0   InvoiceNo    541909 non-null  object \n",
      " 1   StockCode    541909 non-null  object \n",
      " 2   Description  540455 non-null  object \n",
      " 3   Quantity     541909 non-null  int64  \n",
      " 4   InvoiceDate  541909 non-null  object \n",
      " 5   UnitPrice    541909 non-null  float64\n",
      " 6   CustomerID   406829 non-null  float64\n",
      " 7   Country      541909 non-null  object \n",
      "dtypes: float64(2), int64(1), object(5)\n",
      "memory usage: 33.1+ MB\n"
     ]
    }
   ],
   "source": [
    "import pandas as pd\n",
    "import numpy as np\n",
    "import matplotlib.pyplot as plt\n",
    "import seaborn as sns\n",
    "import scipy.stats as stats\n",
    "import plotly.graph_objects as go\n",
    "\n",
    "df_raw = pd.read_csv('dataecommerce.csv', encoding='ISO-8859-1')\n",
    "df=df_raw.copy()\n",
    "df.shape\n",
    "df.head(20)\n",
    "df.info()"
   ]
  },
  {
   "cell_type": "code",
   "execution_count": 428,
   "id": "58fa49bc-1961-468c-a5ec-ca3a16c9f97b",
   "metadata": {},
   "outputs": [
    {
     "data": {
      "text/plain": [
       "Index(['InvoiceNo', 'StockCode', 'Description', 'Quantity', 'InvoiceDate',\n",
       "       'UnitPrice', 'CustomerID', 'Country'],\n",
       "      dtype='object')"
      ]
     },
     "execution_count": 428,
     "metadata": {},
     "output_type": "execute_result"
    }
   ],
   "source": [
    "\n",
    "df.tail()\n",
    "df.columns\n"
   ]
  },
  {
   "cell_type": "code",
   "execution_count": 430,
   "id": "6718100a-8643-40d3-8c26-93e422c7bf1e",
   "metadata": {},
   "outputs": [
    {
     "name": "stdout",
     "output_type": "stream",
     "text": [
      "<class 'pandas.core.frame.DataFrame'>\n",
      "RangeIndex: 541909 entries, 0 to 541908\n",
      "Data columns (total 8 columns):\n",
      " #   Column       Non-Null Count   Dtype  \n",
      "---  ------       --------------   -----  \n",
      " 0   InvoiceNo    541909 non-null  object \n",
      " 1   StockCode    541909 non-null  object \n",
      " 2   Description  540455 non-null  object \n",
      " 3   Quantity     541909 non-null  int64  \n",
      " 4   InvoiceDate  541909 non-null  object \n",
      " 5   UnitPrice    541909 non-null  float64\n",
      " 6   CustomerID   406829 non-null  float64\n",
      " 7   Country      541909 non-null  object \n",
      "dtypes: float64(2), int64(1), object(5)\n",
      "memory usage: 33.1+ MB\n"
     ]
    },
    {
     "data": {
      "text/plain": [
       "5268"
      ]
     },
     "execution_count": 430,
     "metadata": {},
     "output_type": "execute_result"
    }
   ],
   "source": [
    "df.columns\n",
    "df.info()\n",
    "df.describe()\n",
    "df.duplicated().sum() \n"
   ]
  },
  {
   "cell_type": "code",
   "execution_count": 434,
   "id": "eea57f18-c863-4d56-8c67-336f52c5dc88",
   "metadata": {},
   "outputs": [
    {
     "data": {
      "text/html": [
       "<div>\n",
       "<style scoped>\n",
       "    .dataframe tbody tr th:only-of-type {\n",
       "        vertical-align: middle;\n",
       "    }\n",
       "\n",
       "    .dataframe tbody tr th {\n",
       "        vertical-align: top;\n",
       "    }\n",
       "\n",
       "    .dataframe thead th {\n",
       "        text-align: right;\n",
       "    }\n",
       "</style>\n",
       "<table border=\"1\" class=\"dataframe\">\n",
       "  <thead>\n",
       "    <tr style=\"text-align: right;\">\n",
       "      <th></th>\n",
       "      <th>Quantity</th>\n",
       "      <th>UnitPrice</th>\n",
       "      <th>CustomerID</th>\n",
       "    </tr>\n",
       "  </thead>\n",
       "  <tbody>\n",
       "    <tr>\n",
       "      <th>count</th>\n",
       "      <td>541909.000000</td>\n",
       "      <td>541909.000000</td>\n",
       "      <td>406829.000000</td>\n",
       "    </tr>\n",
       "    <tr>\n",
       "      <th>mean</th>\n",
       "      <td>9.552250</td>\n",
       "      <td>4.611114</td>\n",
       "      <td>15287.690570</td>\n",
       "    </tr>\n",
       "    <tr>\n",
       "      <th>std</th>\n",
       "      <td>218.081158</td>\n",
       "      <td>96.759853</td>\n",
       "      <td>1713.600303</td>\n",
       "    </tr>\n",
       "    <tr>\n",
       "      <th>min</th>\n",
       "      <td>-80995.000000</td>\n",
       "      <td>-11062.060000</td>\n",
       "      <td>12346.000000</td>\n",
       "    </tr>\n",
       "    <tr>\n",
       "      <th>25%</th>\n",
       "      <td>1.000000</td>\n",
       "      <td>1.250000</td>\n",
       "      <td>13953.000000</td>\n",
       "    </tr>\n",
       "    <tr>\n",
       "      <th>50%</th>\n",
       "      <td>3.000000</td>\n",
       "      <td>2.080000</td>\n",
       "      <td>15152.000000</td>\n",
       "    </tr>\n",
       "    <tr>\n",
       "      <th>75%</th>\n",
       "      <td>10.000000</td>\n",
       "      <td>4.130000</td>\n",
       "      <td>16791.000000</td>\n",
       "    </tr>\n",
       "    <tr>\n",
       "      <th>max</th>\n",
       "      <td>80995.000000</td>\n",
       "      <td>38970.000000</td>\n",
       "      <td>18287.000000</td>\n",
       "    </tr>\n",
       "  </tbody>\n",
       "</table>\n",
       "</div>"
      ],
      "text/plain": [
       "            Quantity      UnitPrice     CustomerID\n",
       "count  541909.000000  541909.000000  406829.000000\n",
       "mean        9.552250       4.611114   15287.690570\n",
       "std       218.081158      96.759853    1713.600303\n",
       "min    -80995.000000  -11062.060000   12346.000000\n",
       "25%         1.000000       1.250000   13953.000000\n",
       "50%         3.000000       2.080000   15152.000000\n",
       "75%        10.000000       4.130000   16791.000000\n",
       "max     80995.000000   38970.000000   18287.000000"
      ]
     },
     "execution_count": 434,
     "metadata": {},
     "output_type": "execute_result"
    }
   ],
   "source": [
    "# there 5268 duplicate rows are there\n",
    "df.drop_duplicates()\n",
    "df.describe()"
   ]
  },
  {
   "cell_type": "code",
   "execution_count": 436,
   "id": "d645494a-662c-4d1b-947c-b9980dac9aab",
   "metadata": {},
   "outputs": [
    {
     "data": {
      "text/plain": [
       "InvoiceNo       0.000000\n",
       "StockCode       0.000000\n",
       "Description     0.268311\n",
       "Quantity        0.000000\n",
       "InvoiceDate     0.000000\n",
       "UnitPrice       0.000000\n",
       "CustomerID     24.926694\n",
       "Country         0.000000\n",
       "dtype: float64"
      ]
     },
     "execution_count": 436,
     "metadata": {},
     "output_type": "execute_result"
    }
   ],
   "source": [
    "### deal with missing values\n",
    "\n",
    "df.isna().sum()*100/len(df)\n",
    "\n",
    "\n"
   ]
  },
  {
   "cell_type": "code",
   "execution_count": 584,
   "id": "d7413b27-c2dc-4000-b336-2e03746d5360",
   "metadata": {},
   "outputs": [
    {
     "data": {
      "text/html": [
       "<div>\n",
       "<style scoped>\n",
       "    .dataframe tbody tr th:only-of-type {\n",
       "        vertical-align: middle;\n",
       "    }\n",
       "\n",
       "    .dataframe tbody tr th {\n",
       "        vertical-align: top;\n",
       "    }\n",
       "\n",
       "    .dataframe thead th {\n",
       "        text-align: right;\n",
       "    }\n",
       "</style>\n",
       "<table border=\"1\" class=\"dataframe\">\n",
       "  <thead>\n",
       "    <tr style=\"text-align: right;\">\n",
       "      <th></th>\n",
       "      <th>Quantity</th>\n",
       "      <th>InvoiceDate</th>\n",
       "      <th>UnitPrice</th>\n",
       "      <th>CustomerID</th>\n",
       "      <th>Totalsale</th>\n",
       "    </tr>\n",
       "  </thead>\n",
       "  <tbody>\n",
       "    <tr>\n",
       "      <th>count</th>\n",
       "      <td>397884.000000</td>\n",
       "      <td>397884</td>\n",
       "      <td>397884.000000</td>\n",
       "      <td>397884.000000</td>\n",
       "      <td>397884.000000</td>\n",
       "    </tr>\n",
       "    <tr>\n",
       "      <th>mean</th>\n",
       "      <td>12.988238</td>\n",
       "      <td>2011-07-10 23:41:23.511023360</td>\n",
       "      <td>3.116488</td>\n",
       "      <td>15294.423453</td>\n",
       "      <td>22.397000</td>\n",
       "    </tr>\n",
       "    <tr>\n",
       "      <th>min</th>\n",
       "      <td>1.000000</td>\n",
       "      <td>2010-12-01 08:26:00</td>\n",
       "      <td>0.001000</td>\n",
       "      <td>12346.000000</td>\n",
       "      <td>0.001000</td>\n",
       "    </tr>\n",
       "    <tr>\n",
       "      <th>25%</th>\n",
       "      <td>2.000000</td>\n",
       "      <td>2011-04-07 11:12:00</td>\n",
       "      <td>1.250000</td>\n",
       "      <td>13969.000000</td>\n",
       "      <td>4.680000</td>\n",
       "    </tr>\n",
       "    <tr>\n",
       "      <th>50%</th>\n",
       "      <td>6.000000</td>\n",
       "      <td>2011-07-31 14:39:00</td>\n",
       "      <td>1.950000</td>\n",
       "      <td>15159.000000</td>\n",
       "      <td>11.800000</td>\n",
       "    </tr>\n",
       "    <tr>\n",
       "      <th>75%</th>\n",
       "      <td>12.000000</td>\n",
       "      <td>2011-10-20 14:33:00</td>\n",
       "      <td>3.750000</td>\n",
       "      <td>16795.000000</td>\n",
       "      <td>19.800000</td>\n",
       "    </tr>\n",
       "    <tr>\n",
       "      <th>max</th>\n",
       "      <td>80995.000000</td>\n",
       "      <td>2011-12-09 12:50:00</td>\n",
       "      <td>8142.750000</td>\n",
       "      <td>18287.000000</td>\n",
       "      <td>168469.600000</td>\n",
       "    </tr>\n",
       "    <tr>\n",
       "      <th>std</th>\n",
       "      <td>179.331775</td>\n",
       "      <td>NaN</td>\n",
       "      <td>22.097877</td>\n",
       "      <td>1713.141560</td>\n",
       "      <td>309.071041</td>\n",
       "    </tr>\n",
       "  </tbody>\n",
       "</table>\n",
       "</div>"
      ],
      "text/plain": [
       "            Quantity                    InvoiceDate      UnitPrice  \\\n",
       "count  397884.000000                         397884  397884.000000   \n",
       "mean       12.988238  2011-07-10 23:41:23.511023360       3.116488   \n",
       "min         1.000000            2010-12-01 08:26:00       0.001000   \n",
       "25%         2.000000            2011-04-07 11:12:00       1.250000   \n",
       "50%         6.000000            2011-07-31 14:39:00       1.950000   \n",
       "75%        12.000000            2011-10-20 14:33:00       3.750000   \n",
       "max     80995.000000            2011-12-09 12:50:00    8142.750000   \n",
       "std       179.331775                            NaN      22.097877   \n",
       "\n",
       "          CustomerID      Totalsale  \n",
       "count  397884.000000  397884.000000  \n",
       "mean    15294.423453      22.397000  \n",
       "min     12346.000000       0.001000  \n",
       "25%     13969.000000       4.680000  \n",
       "50%     15159.000000      11.800000  \n",
       "75%     16795.000000      19.800000  \n",
       "max     18287.000000  168469.600000  \n",
       "std      1713.141560     309.071041  "
      ]
     },
     "execution_count": 584,
     "metadata": {},
     "output_type": "execute_result"
    }
   ],
   "source": [
    "# we droup rows where missing value isless than 3%\n",
    "df=df.dropna(subset=[\"Description\"])\n",
    "df[\"Description\"].isna().sum()\n",
    "df=df[df[\"Quantity\"]>0]\n",
    "df[\"Quantity\"].isna().sum()\n",
    "df=df[df[\"UnitPrice\"]>0]\n",
    "df=df.dropna(subset=['CustomerID'])\n",
    "df"
   ]
  },
  {
   "cell_type": "code",
   "execution_count": 440,
   "id": "da1983ac-e161-444d-a965-c4823810c8e0",
   "metadata": {},
   "outputs": [
    {
     "data": {
      "text/plain": [
       "0"
      ]
     },
     "execution_count": 440,
     "metadata": {},
     "output_type": "execute_result"
    }
   ],
   "source": [
    " \n",
    "df[\"CustomerID\"].isna().sum()"
   ]
  },
  {
   "cell_type": "code",
   "execution_count": 588,
   "id": "b94e1227-77d3-4abd-a8e7-f19802d0c634",
   "metadata": {},
   "outputs": [
    {
     "data": {
      "text/plain": [
       "-13"
      ]
     },
     "execution_count": 588,
     "metadata": {},
     "output_type": "execute_result"
    }
   ],
   "source": [
    "df1=df.reset_index(drop=True)\n",
    " \n",
    "def remove_outlier(df1,column):\n",
    "    q1=df[column].quantile(.25)\n",
    "    q3=df[column].quantile(.75)\n",
    "    IQR=q3-q1\n",
    "    lower_limit=q1-1.5*IQR\n",
    "    upper_limit=q3+1.5*IQR\n",
    "    return df[(df[column]>=lower_limit)&(df[column]<=upper_limit)]\n",
    "\n",
    "df=remove_outlier(df1,\"Quantity\")\n",
    "df=remove_outlier(df,\"UnitPrice\")\n",
    "df[\"CustomerID\"].nunique()-df1[\"CustomerID\"].nunique() # this means that we are losing customer\n",
    "\n"
   ]
  },
  {
   "cell_type": "code",
   "execution_count": 448,
   "id": "9dd6b814-112d-45c2-bd8a-b8d25de2af93",
   "metadata": {},
   "outputs": [
    {
     "data": {
      "text/html": [
       "<div>\n",
       "<style scoped>\n",
       "    .dataframe tbody tr th:only-of-type {\n",
       "        vertical-align: middle;\n",
       "    }\n",
       "\n",
       "    .dataframe tbody tr th {\n",
       "        vertical-align: top;\n",
       "    }\n",
       "\n",
       "    .dataframe thead th {\n",
       "        text-align: right;\n",
       "    }\n",
       "</style>\n",
       "<table border=\"1\" class=\"dataframe\">\n",
       "  <thead>\n",
       "    <tr style=\"text-align: right;\">\n",
       "      <th></th>\n",
       "      <th>InvoiceNo</th>\n",
       "      <th>StockCode</th>\n",
       "      <th>Description</th>\n",
       "      <th>Quantity</th>\n",
       "      <th>InvoiceDate</th>\n",
       "      <th>UnitPrice</th>\n",
       "      <th>CustomerID</th>\n",
       "      <th>Country</th>\n",
       "      <th>TotalSale</th>\n",
       "    </tr>\n",
       "  </thead>\n",
       "  <tbody>\n",
       "    <tr>\n",
       "      <th>0</th>\n",
       "      <td>536365</td>\n",
       "      <td>85123A</td>\n",
       "      <td>WHITE HANGING HEART T-LIGHT HOLDER</td>\n",
       "      <td>6.0</td>\n",
       "      <td>12/1/2010 8:26</td>\n",
       "      <td>2.55</td>\n",
       "      <td>17850.0</td>\n",
       "      <td>United Kingdom</td>\n",
       "      <td>15.3</td>\n",
       "    </tr>\n",
       "  </tbody>\n",
       "</table>\n",
       "</div>"
      ],
      "text/plain": [
       "  InvoiceNo StockCode                         Description  Quantity  \\\n",
       "0    536365    85123A  WHITE HANGING HEART T-LIGHT HOLDER       6.0   \n",
       "\n",
       "      InvoiceDate  UnitPrice CustomerID         Country  TotalSale  \n",
       "0  12/1/2010 8:26       2.55    17850.0  United Kingdom       15.3  "
      ]
     },
     "execution_count": 448,
     "metadata": {},
     "output_type": "execute_result"
    }
   ],
   "source": [
    "df.dtypes\n",
    "df[['CustomerID', 'InvoiceNo', 'StockCode']]=df[['CustomerID', 'InvoiceNo', 'StockCode']].astype(str)\n",
    "df[[\"Quantity\",\"UnitPrice\"]]=df[[\"Quantity\",\"UnitPrice\"]].astype(float)\n",
    "df[\"TotalSale\"]=df[\"Quantity\"]*df[\"UnitPrice\"]\n",
    "df.head(1)\n",
    "\n",
    "\n",
    "\n",
    "\n"
   ]
  },
  {
   "cell_type": "code",
   "execution_count": 594,
   "id": "5479a9f2-22dc-4ba2-852d-3df8dd9b5821",
   "metadata": {},
   "outputs": [
    {
     "data": {
      "text/html": [
       "<div>\n",
       "<style scoped>\n",
       "    .dataframe tbody tr th:only-of-type {\n",
       "        vertical-align: middle;\n",
       "    }\n",
       "\n",
       "    .dataframe tbody tr th {\n",
       "        vertical-align: top;\n",
       "    }\n",
       "\n",
       "    .dataframe thead th {\n",
       "        text-align: right;\n",
       "    }\n",
       "</style>\n",
       "<table border=\"1\" class=\"dataframe\">\n",
       "  <thead>\n",
       "    <tr style=\"text-align: right;\">\n",
       "      <th></th>\n",
       "      <th>CustomerID</th>\n",
       "      <th>Recency</th>\n",
       "      <th>Frequency</th>\n",
       "      <th>Monetary</th>\n",
       "    </tr>\n",
       "  </thead>\n",
       "  <tbody>\n",
       "    <tr>\n",
       "      <th>0</th>\n",
       "      <td>12347.0</td>\n",
       "      <td>2</td>\n",
       "      <td>7</td>\n",
       "      <td>3243.33</td>\n",
       "    </tr>\n",
       "    <tr>\n",
       "      <th>1</th>\n",
       "      <td>12348.0</td>\n",
       "      <td>249</td>\n",
       "      <td>3</td>\n",
       "      <td>90.20</td>\n",
       "    </tr>\n",
       "  </tbody>\n",
       "</table>\n",
       "</div>"
      ],
      "text/plain": [
       "   CustomerID  Recency  Frequency  Monetary\n",
       "0     12347.0        2          7   3243.33\n",
       "1     12348.0      249          3     90.20"
      ]
     },
     "execution_count": 594,
     "metadata": {},
     "output_type": "execute_result"
    }
   ],
   "source": [
    "# Lets analyse recency(number of days between a customer's last purchase date and a chosen reference date)\n",
    "df[\"InvoiceDate\"]=pd.to_datetime(df[\"InvoiceDate\"])\n",
    "Reference_date=df[\"InvoiceDate\"].max()+pd.Timedelta(days=1)\n",
    "df[\"Totalsale\"]=df[\"Quantity\"]*df[\"UnitPrice\"]\n",
    " \n",
    "result=df.groupby(\"CustomerID\").agg({\"InvoiceDate\":lambda x:(Reference_date-x.max()).days,\n",
    "                             \"InvoiceNo\":lambda x:x.nunique(),\n",
    "                             \"Totalsale\":lambda x:x.sum()}).reset_index()\n",
    "result.columns=[\"CustomerID\",\"Recency\",\"Frequency\",\"Monetary\"]\n",
    "result.head(2)"
   ]
  },
  {
   "cell_type": "code",
   "execution_count": 610,
   "id": "f958e545-796a-49b6-83c4-58790bc60666",
   "metadata": {},
   "outputs": [
    {
     "data": {
      "image/png": "[encoded data removed]",
      "text/plain": [
       "<Figure size 1800x800 with 3 Axes>"
      ]
     },
     "metadata": {},
     "output_type": "display_data"
    }
   ],
   "source": [
    "def date_plot(result):\n",
    "    \n",
    "    fig,axes=plt.subplots(1,3,figsize=(18,8))\n",
    "    \n",
    "    sns.histplot(result[\"Recency\"],bins=50,kde=True,ax=axes[0],color=\"blue\")\n",
    "    axes[0].set_title(\"Recency Distribution\")\n",
    "    axes[0].set_xlabel(\"Recency\")\n",
    "    axes[0].set_ylabel(\"Count\")\n",
    "\n",
    "    sns.histplot(result['Frequency'], bins=50, kde=True, ax=axes[1], color='green')\n",
    "    axes[1].set_title('Frequency Distribution')\n",
    "    axes[1].set_xlabel('Frequency')\n",
    "\n",
    "    sns.histplot(result['Monetary'], bins=50, kde=True, ax=axes[2], color='orange')\n",
    "    axes[2].set_title('Monetary Distribution')\n",
    "    axes[2].set_xlabel('Monetary Value')\n",
    "\n",
    "    plt.tight_layout()\n",
    "    plt.show()\n",
    "\n",
    "date_plot(result)\n",
    "    \n",
    " "
   ]
  },
  {
   "cell_type": "code",
   "execution_count": 620,
   "id": "ba3857a4-7480-4167-a269-1ca431a215a5",
   "metadata": {},
   "outputs": [
    {
     "data": {
      "image/png": "[encoded data removed]",
      "text/plain": [
       "<Figure size 1800x1000 with 6 Axes>"
      ]
     },
     "metadata": {},
     "output_type": "display_data"
    }
   ],
   "source": [
    " # Recency is managable but frequency and monetary is highly rightly skewed. we need to transform them in log\n",
    "result[\"log_frequency\"]=np.log1p(result[\"Frequency\"].astype(float))\n",
    "result[\"log_Monetary\"]=np.log1p(result[\"Monetary\"].astype(float))\n",
    "result.head(2)\n",
    "def log_data_plot(result):\n",
    "    fig,axes=plt.subplots(2,3,figsize=(18,10))\n",
    "\n",
    "    sns.histplot(result['Recency'], bins=50, kde=True, ax=axes[0, 0], color='blue')\n",
    "    axes[0, 0].set_title('Recency (Original)')\n",
    "\n",
    "    sns.histplot(result['Frequency'], bins=50, kde=True, ax=axes[0, 1], color='green')\n",
    "    axes[0, 1].set_title('Frequency (Original)')\n",
    "\n",
    "    sns.histplot(result['Monetary'], bins=50, kde=True, ax=axes[0, 2], color='orange')\n",
    "    axes[0, 2].set_title('Monetary (Original)')\n",
    "\n",
    "    sns.histplot(result['Recency'], bins=50, kde=True, ax=axes[1, 0], color='blue')\n",
    "    axes[1, 0].set_title('Recency (Unchanged)')\n",
    "\n",
    "    sns.histplot(result['log_frequency'], bins=50, kde=True, ax=axes[1, 1], color='green')\n",
    "    axes[1, 1].set_title('Frequency (Log Transformed)')\n",
    "\n",
    "    sns.histplot(result['log_Monetary'], bins=50, kde=True, ax=axes[1, 2], color='orange')\n",
    "    axes[1, 2].set_title('Monetary (Log Transformed)')\n",
    "\n",
    "    plt.tight_layout()\n",
    "    plt.show()\n",
    "\n",
    "log_data_plot(result)\n",
    "\n"
   ]
  },
  {
   "cell_type": "code",
   "execution_count": 630,
   "id": "7b61edb9-6020-4da3-9695-458492e20cb3",
   "metadata": {},
   "outputs": [],
   "source": [
    "#\n",
    "result[[\"Recency\",\"log_Monetary\",\"log_frequency\"]].describe()\n",
    "df1=result.copy()"
   ]
  },
  {
   "cell_type": "code",
   "execution_count": 638,
   "id": "d8265eb4-b693-47e5-99ab-404f29f8428d",
   "metadata": {},
   "outputs": [
    {
     "data": {
      "text/html": [
       "<div>\n",
       "<style scoped>\n",
       "    .dataframe tbody tr th:only-of-type {\n",
       "        vertical-align: middle;\n",
       "    }\n",
       "\n",
       "    .dataframe tbody tr th {\n",
       "        vertical-align: top;\n",
       "    }\n",
       "\n",
       "    .dataframe thead th {\n",
       "        text-align: right;\n",
       "    }\n",
       "</style>\n",
       "<table border=\"1\" class=\"dataframe\">\n",
       "  <thead>\n",
       "    <tr style=\"text-align: right;\">\n",
       "      <th></th>\n",
       "      <th>CustomerID</th>\n",
       "      <th>Recency</th>\n",
       "      <th>Frequency</th>\n",
       "      <th>Monetary</th>\n",
       "      <th>log_frequency</th>\n",
       "      <th>log_Monetary</th>\n",
       "      <th>Recency_score</th>\n",
       "      <th>frequency_score</th>\n",
       "      <th>Monetary_score</th>\n",
       "    </tr>\n",
       "  </thead>\n",
       "  <tbody>\n",
       "    <tr>\n",
       "      <th>0</th>\n",
       "      <td>12347.0</td>\n",
       "      <td>2</td>\n",
       "      <td>7</td>\n",
       "      <td>3243.33</td>\n",
       "      <td>2.079442</td>\n",
       "      <td>8.084664</td>\n",
       "      <td>4</td>\n",
       "      <td>4</td>\n",
       "      <td>4</td>\n",
       "    </tr>\n",
       "    <tr>\n",
       "      <th>1</th>\n",
       "      <td>12348.0</td>\n",
       "      <td>249</td>\n",
       "      <td>3</td>\n",
       "      <td>90.20</td>\n",
       "      <td>1.386294</td>\n",
       "      <td>4.513055</td>\n",
       "      <td>1</td>\n",
       "      <td>3</td>\n",
       "      <td>1</td>\n",
       "    </tr>\n",
       "    <tr>\n",
       "      <th>2</th>\n",
       "      <td>12349.0</td>\n",
       "      <td>19</td>\n",
       "      <td>1</td>\n",
       "      <td>918.10</td>\n",
       "      <td>0.693147</td>\n",
       "      <td>6.823395</td>\n",
       "      <td>3</td>\n",
       "      <td>2</td>\n",
       "      <td>3</td>\n",
       "    </tr>\n",
       "    <tr>\n",
       "      <th>3</th>\n",
       "      <td>12350.0</td>\n",
       "      <td>310</td>\n",
       "      <td>1</td>\n",
       "      <td>294.40</td>\n",
       "      <td>0.693147</td>\n",
       "      <td>5.688330</td>\n",
       "      <td>1</td>\n",
       "      <td>2</td>\n",
       "      <td>2</td>\n",
       "    </tr>\n",
       "    <tr>\n",
       "      <th>4</th>\n",
       "      <td>12352.0</td>\n",
       "      <td>36</td>\n",
       "      <td>7</td>\n",
       "      <td>986.34</td>\n",
       "      <td>2.079442</td>\n",
       "      <td>6.895014</td>\n",
       "      <td>3</td>\n",
       "      <td>4</td>\n",
       "      <td>3</td>\n",
       "    </tr>\n",
       "    <tr>\n",
       "      <th>...</th>\n",
       "      <td>...</td>\n",
       "      <td>...</td>\n",
       "      <td>...</td>\n",
       "      <td>...</td>\n",
       "      <td>...</td>\n",
       "      <td>...</td>\n",
       "      <td>...</td>\n",
       "      <td>...</td>\n",
       "      <td>...</td>\n",
       "    </tr>\n",
       "    <tr>\n",
       "      <th>4173</th>\n",
       "      <td>18280.0</td>\n",
       "      <td>278</td>\n",
       "      <td>1</td>\n",
       "      <td>119.15</td>\n",
       "      <td>0.693147</td>\n",
       "      <td>4.788741</td>\n",
       "      <td>1</td>\n",
       "      <td>2</td>\n",
       "      <td>1</td>\n",
       "    </tr>\n",
       "    <tr>\n",
       "      <th>4174</th>\n",
       "      <td>18281.0</td>\n",
       "      <td>181</td>\n",
       "      <td>1</td>\n",
       "      <td>46.92</td>\n",
       "      <td>0.693147</td>\n",
       "      <td>3.869533</td>\n",
       "      <td>1</td>\n",
       "      <td>2</td>\n",
       "      <td>1</td>\n",
       "    </tr>\n",
       "    <tr>\n",
       "      <th>4175</th>\n",
       "      <td>18282.0</td>\n",
       "      <td>8</td>\n",
       "      <td>2</td>\n",
       "      <td>99.63</td>\n",
       "      <td>1.098612</td>\n",
       "      <td>4.611450</td>\n",
       "      <td>4</td>\n",
       "      <td>2</td>\n",
       "      <td>1</td>\n",
       "    </tr>\n",
       "    <tr>\n",
       "      <th>4176</th>\n",
       "      <td>18283.0</td>\n",
       "      <td>4</td>\n",
       "      <td>16</td>\n",
       "      <td>2040.08</td>\n",
       "      <td>2.833213</td>\n",
       "      <td>7.621234</td>\n",
       "      <td>4</td>\n",
       "      <td>4</td>\n",
       "      <td>4</td>\n",
       "    </tr>\n",
       "    <tr>\n",
       "      <th>4177</th>\n",
       "      <td>18287.0</td>\n",
       "      <td>43</td>\n",
       "      <td>3</td>\n",
       "      <td>960.76</td>\n",
       "      <td>1.386294</td>\n",
       "      <td>6.868765</td>\n",
       "      <td>3</td>\n",
       "      <td>3</td>\n",
       "      <td>3</td>\n",
       "    </tr>\n",
       "  </tbody>\n",
       "</table>\n",
       "<p>4178 rows × 9 columns</p>\n",
       "</div>"
      ],
      "text/plain": [
       "      CustomerID  Recency  Frequency  Monetary  log_frequency  log_Monetary  \\\n",
       "0        12347.0        2          7   3243.33       2.079442      8.084664   \n",
       "1        12348.0      249          3     90.20       1.386294      4.513055   \n",
       "2        12349.0       19          1    918.10       0.693147      6.823395   \n",
       "3        12350.0      310          1    294.40       0.693147      5.688330   \n",
       "4        12352.0       36          7    986.34       2.079442      6.895014   \n",
       "...          ...      ...        ...       ...            ...           ...   \n",
       "4173     18280.0      278          1    119.15       0.693147      4.788741   \n",
       "4174     18281.0      181          1     46.92       0.693147      3.869533   \n",
       "4175     18282.0        8          2     99.63       1.098612      4.611450   \n",
       "4176     18283.0        4         16   2040.08       2.833213      7.621234   \n",
       "4177     18287.0       43          3    960.76       1.386294      6.868765   \n",
       "\n",
       "      Recency_score  frequency_score  Monetary_score  \n",
       "0                 4                4               4  \n",
       "1                 1                3               1  \n",
       "2                 3                2               3  \n",
       "3                 1                2               2  \n",
       "4                 3                4               3  \n",
       "...             ...              ...             ...  \n",
       "4173              1                2               1  \n",
       "4174              1                2               1  \n",
       "4175              4                2               1  \n",
       "4176              4                4               4  \n",
       "4177              3                3               3  \n",
       "\n",
       "[4178 rows x 9 columns]"
      ]
     },
     "execution_count": 638,
     "metadata": {},
     "output_type": "execute_result"
    }
   ],
   "source": [
    "def score_recency(x):\n",
    "    if x <= 18:\n",
    "        return 4\n",
    "    elif x <= 51:\n",
    "        return 3\n",
    "    elif x <= 144:\n",
    "        return 2\n",
    "    else:\n",
    "        return 1\n",
    "\n",
    "def score_log_monetary(x):\n",
    "    if x <= 5.253:\n",
    "        return 1\n",
    "    elif x <= 6.075:\n",
    "        return 2\n",
    "    elif x <= 6.959:\n",
    "        return 3\n",
    "    else:\n",
    "        return 4\n",
    "\n",
    "def score_log_frequency(x):\n",
    "    if x <= 0.693:\n",
    "        return 1\n",
    "    elif x <= 1.099:\n",
    "        return 2\n",
    "    elif x <= 1.609:\n",
    "        return 3\n",
    "    else:\n",
    "        return 4\n",
    "scoring_function={\"Recency\":score_recency,\n",
    "                 \"log_frequency\":score_log_frequency,\n",
    "                 \"log_Monetary\":score_log_monetary}\n",
    "for col,func in scoring_function.items():\n",
    "    suffix = col if col == 'Recency' else col.split(\"_\")[1]\n",
    "    df1[f'{suffix}_score'] = df1[col].apply(func)\n",
    "df1.head(2)\n",
    "df1"
   ]
  },
  {
   "cell_type": "code",
   "execution_count": 662,
   "id": "34f60571-c8d9-451e-9332-c749e958eb5f",
   "metadata": {},
   "outputs": [
    {
     "data": {
      "text/plain": [
       "Customer_Segment\n",
       "At Risk Customers      11.967449\n",
       "Best Customer          22.355194\n",
       "Lost Customers         19.243657\n",
       "Loyal Customers         4.021063\n",
       "New Customers           4.571565\n",
       "Other                  37.673528\n",
       "Potential Loyalists     0.167544\n",
       "dtype: float64"
      ]
     },
     "execution_count": 662,
     "metadata": {},
     "output_type": "execute_result"
    }
   ],
   "source": [
    "df1[\"RFM_segment\"]=df1[[\"Recency_score\",\"frequency_score\",\"Monetary_score\"]].astype(str).agg(\"\".join,axis=1)\n",
    "df1.head(2)\n",
    "def cust_categry(code):\n",
    "    if code in [\"444\", \"443\", \"434\", \"344\"]:\n",
    "        return \"Best Customer\"\n",
    "    elif code in [\"344\", \"334\", \"433\", \"333\"]:\n",
    "        return \"Loyal Customers\"\n",
    "    elif code.startswith('4') and code[1] in ['1', '2'] and code[2] in ['1', '2']:\n",
    "        return 'New Customers'\n",
    "    elif code[0] == '4' and code[2] == '4' and code[1] in ['1', '2']:\n",
    "        return 'Potential Loyalists'\n",
    "    elif code[0] in ['1', '2'] and code[1] in ['3', '4']:\n",
    "        return 'At Risk Customers'\n",
    "    elif code in ['111', '112', '121', '122']:\n",
    "        return 'Lost Customers'\n",
    "    else:\n",
    "        return 'Other'\n",
    "df1[\"Customer_Segment\"]=df1[\"RFM_segment\"].apply(cust_categry)\n",
    "df1.groupby(\"Customer_Segment\").size()*100/len(df1)\n"
   ]
  },
  {
   "cell_type": "code",
   "execution_count": 676,
   "id": "04a2c77d-7fb7-4105-822d-19dfe5307b33",
   "metadata": {},
   "outputs": [
    {
     "data": {
      "application/vnd.plotly.v1+json": {
       "config": {
        "plotlyServerURL": "https://plot.ly"
       },
       "data": [
        {
         "link": {
          "color": [
           "#1f77b4",
           "#ff7f0e",
           "#2ca02c",
           "#d62728",
           "#9467bd",
           "#8c564b",
           "#e377c2"
          ],
          "hoverlabel": {
           "bgcolor": "white",
           "font": {
            "size": 12
           }
          },
          "source": [
           0,
           0,
           0,
           0,
           0,
           0,
           0
          ],
          "target": [
           1,
           2,
           3,
           4,
           5,
           6,
           7
          ],
          "value": [
           37.67352800382958,
           22.355193872666348,
           19.243657252273817,
           11.967448539971278,
           4.571565342269028,
           4.02106270943035,
           0.1675442795595979
          ]
         },
         "node": {
          "color": [
           "#444444",
           "#1f77b4",
           "#ff7f0e",
           "#2ca02c",
           "#d62728",
           "#9467bd",
           "#8c564b",
           "#e377c2"
          ],
          "label": [
           "All Customers",
           "Other",
           "Best Customer",
           "Lost Customers",
           "At Risk Customers",
           "New Customers",
           "Loyal Customers",
           "Potential Loyalists"
          ],
          "line": {
           "color": "black",
           "width": 1
          },
          "pad": 15,
          "thickness": 25
         },
         "type": "sankey"
        }
       ],
       "layout": {
        "autosize": true,
        "font": {
         "size": 14
        },
        "template": {
         "data": {
          "bar": [
           {
            "error_x": {
             "color": "#2a3f5f"
            },
            "error_y": {
             "color": "#2a3f5f"
            },
            "marker": {
             "line": {
              "color": "#E5ECF6",
              "width": 0.5
             },
             "pattern": {
              "fillmode": "overlay",
              "size": 10,
              "solidity": 0.2
             }
            },
            "type": "bar"
           }
          ],
          "barpolar": [
           {
            "marker": {
             "line": {
              "color": "#E5ECF6",
              "width": 0.5
             },
             "pattern": {
              "fillmode": "overlay",
              "size": 10,
              "solidity": 0.2
             }
            },
            "type": "barpolar"
           }
          ],
          "carpet": [
           {
            "aaxis": {
             "endlinecolor": "#2a3f5f",
             "gridcolor": "white",
             "linecolor": "white",
             "minorgridcolor": "white",
             "startlinecolor": "#2a3f5f"
            },
            "baxis": {
             "endlinecolor": "#2a3f5f",
             "gridcolor": "white",
             "linecolor": "white",
             "minorgridcolor": "white",
             "startlinecolor": "#2a3f5f"
            },
            "type": "carpet"
           }
          ],
          "choropleth": [
           {
            "colorbar": {
             "outlinewidth": 0,
             "ticks": ""
            },
            "type": "choropleth"
           }
          ],
          "contour": [
           {
            "colorbar": {
             "outlinewidth": 0,
             "ticks": ""
            },
            "colorscale": [
             [
              0,
              "#0d0887"
             ],
             [
              0.1111111111111111,
              "#46039f"
             ],
             [
              0.2222222222222222,
              "#7201a8"
             ],
             [
              0.3333333333333333,
              "#9c179e"
             ],
             [
              0.4444444444444444,
              "#bd3786"
             ],
             [
              0.5555555555555556,
              "#d8576b"
             ],
             [
              0.6666666666666666,
              "#ed7953"
             ],
             [
              0.7777777777777778,
              "#fb9f3a"
             ],
             [
              0.8888888888888888,
              "#fdca26"
             ],
             [
              1,
              "#f0f921"
             ]
            ],
            "type": "contour"
           }
          ],
          "contourcarpet": [
           {
            "colorbar": {
             "outlinewidth": 0,
             "ticks": ""
            },
            "type": "contourcarpet"
           }
          ],
          "heatmap": [
           {
            "colorbar": {
             "outlinewidth": 0,
             "ticks": ""
            },
            "colorscale": [
             [
              0,
              "#0d0887"
             ],
             [
              0.1111111111111111,
              "#46039f"
             ],
             [
              0.2222222222222222,
              "#7201a8"
             ],
             [
              0.3333333333333333,
              "#9c179e"
             ],
             [
              0.4444444444444444,
              "#bd3786"
             ],
             [
              0.5555555555555556,
              "#d8576b"
             ],
             [
              0.6666666666666666,
              "#ed7953"
             ],
             [
              0.7777777777777778,
              "#fb9f3a"
             ],
             [
              0.8888888888888888,
              "#fdca26"
             ],
             [
              1,
              "#f0f921"
             ]
            ],
            "type": "heatmap"
           }
          ],
          "heatmapgl": [
           {
            "colorbar": {
             "outlinewidth": 0,
             "ticks": ""
            },
            "colorscale": [
             [
              0,
              "#0d0887"
             ],
             [
              0.1111111111111111,
              "#46039f"
             ],
             [
              0.2222222222222222,
              "#7201a8"
             ],
             [
              0.3333333333333333,
              "#9c179e"
             ],
             [
              0.4444444444444444,
              "#bd3786"
             ],
             [
              0.5555555555555556,
              "#d8576b"
             ],
             [
              0.6666666666666666,
              "#ed7953"
             ],
             [
              0.7777777777777778,
              "#fb9f3a"
             ],
             [
              0.8888888888888888,
              "#fdca26"
             ],
             [
              1,
              "#f0f921"
             ]
            ],
            "type": "heatmapgl"
           }
          ],
          "histogram": [
           {
            "marker": {
             "pattern": {
              "fillmode": "overlay",
              "size": 10,
              "solidity": 0.2
             }
            },
            "type": "histogram"
           }
          ],
          "histogram2d": [
           {
            "colorbar": {
             "outlinewidth": 0,
             "ticks": ""
            },
            "colorscale": [
             [
              0,
              "#0d0887"
             ],
             [
              0.1111111111111111,
              "#46039f"
             ],
             [
              0.2222222222222222,
              "#7201a8"
             ],
             [
              0.3333333333333333,
              "#9c179e"
             ],
             [
              0.4444444444444444,
              "#bd3786"
             ],
             [
              0.5555555555555556,
              "#d8576b"
             ],
             [
              0.6666666666666666,
              "#ed7953"
             ],
             [
              0.7777777777777778,
              "#fb9f3a"
             ],
             [
              0.8888888888888888,
              "#fdca26"
             ],
             [
              1,
              "#f0f921"
             ]
            ],
            "type": "histogram2d"
           }
          ],
          "histogram2dcontour": [
           {
            "colorbar": {
             "outlinewidth": 0,
             "ticks": ""
            },
            "colorscale": [
             [
              0,
              "#0d0887"
             ],
             [
              0.1111111111111111,
              "#46039f"
             ],
             [
              0.2222222222222222,
              "#7201a8"
             ],
             [
              0.3333333333333333,
              "#9c179e"
             ],
             [
              0.4444444444444444,
              "#bd3786"
             ],
             [
              0.5555555555555556,
              "#d8576b"
             ],
             [
              0.6666666666666666,
              "#ed7953"
             ],
             [
              0.7777777777777778,
              "#fb9f3a"
             ],
             [
              0.8888888888888888,
              "#fdca26"
             ],
             [
              1,
              "#f0f921"
             ]
            ],
            "type": "histogram2dcontour"
           }
          ],
          "mesh3d": [
           {
            "colorbar": {
             "outlinewidth": 0,
             "ticks": ""
            },
            "type": "mesh3d"
           }
          ],
          "parcoords": [
           {
            "line": {
             "colorbar": {
              "outlinewidth": 0,
              "ticks": ""
             }
            },
            "type": "parcoords"
           }
          ],
          "pie": [
           {
            "automargin": true,
            "type": "pie"
           }
          ],
          "scatter": [
           {
            "fillpattern": {
             "fillmode": "overlay",
             "size": 10,
             "solidity": 0.2
            },
            "type": "scatter"
           }
          ],
          "scatter3d": [
           {
            "line": {
             "colorbar": {
              "outlinewidth": 0,
              "ticks": ""
             }
            },
            "marker": {
             "colorbar": {
              "outlinewidth": 0,
              "ticks": ""
             }
            },
            "type": "scatter3d"
           }
          ],
          "scattercarpet": [
           {
            "marker": {
             "colorbar": {
              "outlinewidth": 0,
              "ticks": ""
             }
            },
            "type": "scattercarpet"
           }
          ],
          "scattergeo": [
           {
            "marker": {
             "colorbar": {
              "outlinewidth": 0,
              "ticks": ""
             }
            },
            "type": "scattergeo"
           }
          ],
          "scattergl": [
           {
            "marker": {
             "colorbar": {
              "outlinewidth": 0,
              "ticks": ""
             }
            },
            "type": "scattergl"
           }
          ],
          "scattermapbox": [
           {
            "marker": {
             "colorbar": {
              "outlinewidth": 0,
              "ticks": ""
             }
            },
            "type": "scattermapbox"
           }
          ],
          "scatterpolar": [
           {
            "marker": {
             "colorbar": {
              "outlinewidth": 0,
              "ticks": ""
             }
            },
            "type": "scatterpolar"
           }
          ],
          "scatterpolargl": [
           {
            "marker": {
             "colorbar": {
              "outlinewidth": 0,
              "ticks": ""
             }
            },
            "type": "scatterpolargl"
           }
          ],
          "scatterternary": [
           {
            "marker": {
             "colorbar": {
              "outlinewidth": 0,
              "ticks": ""
             }
            },
            "type": "scatterternary"
           }
          ],
          "surface": [
           {
            "colorbar": {
             "outlinewidth": 0,
             "ticks": ""
            },
            "colorscale": [
             [
              0,
              "#0d0887"
             ],
             [
              0.1111111111111111,
              "#46039f"
             ],
             [
              0.2222222222222222,
              "#7201a8"
             ],
             [
              0.3333333333333333,
              "#9c179e"
             ],
             [
              0.4444444444444444,
              "#bd3786"
             ],
             [
              0.5555555555555556,
              "#d8576b"
             ],
             [
              0.6666666666666666,
              "#ed7953"
             ],
             [
              0.7777777777777778,
              "#fb9f3a"
             ],
             [
              0.8888888888888888,
              "#fdca26"
             ],
             [
              1,
              "#f0f921"
             ]
            ],
            "type": "surface"
           }
          ],
          "table": [
           {
            "cells": {
             "fill": {
              "color": "#EBF0F8"
             },
             "line": {
              "color": "white"
             }
            },
            "header": {
             "fill": {
              "color": "#C8D4E3"
             },
             "line": {
              "color": "white"
             }
            },
            "type": "table"
           }
          ]
         },
         "layout": {
          "annotationdefaults": {
           "arrowcolor": "#2a3f5f",
           "arrowhead": 0,
           "arrowwidth": 1
          },
          "autotypenumbers": "strict",
          "coloraxis": {
           "colorbar": {
            "outlinewidth": 0,
            "ticks": ""
           }
          },
          "colorscale": {
           "diverging": [
            [
             0,
             "#8e0152"
            ],
            [
             0.1,
             "#c51b7d"
            ],
            [
             0.2,
             "#de77ae"
            ],
            [
             0.3,
             "#f1b6da"
            ],
            [
             0.4,
             "#fde0ef"
            ],
            [
             0.5,
             "#f7f7f7"
            ],
            [
             0.6,
             "#e6f5d0"
            ],
            [
             0.7,
             "#b8e186"
            ],
            [
             0.8,
             "#7fbc41"
            ],
            [
             0.9,
             "#4d9221"
            ],
            [
             1,
             "#276419"
            ]
           ],
           "sequential": [
            [
             0,
             "#0d0887"
            ],
            [
             0.1111111111111111,
             "#46039f"
            ],
            [
             0.2222222222222222,
             "#7201a8"
            ],
            [
             0.3333333333333333,
             "#9c179e"
            ],
            [
             0.4444444444444444,
             "#bd3786"
            ],
            [
             0.5555555555555556,
             "#d8576b"
            ],
            [
             0.6666666666666666,
             "#ed7953"
            ],
            [
             0.7777777777777778,
             "#fb9f3a"
            ],
            [
             0.8888888888888888,
             "#fdca26"
            ],
            [
             1,
             "#f0f921"
            ]
           ],
           "sequentialminus": [
            [
             0,
             "#0d0887"
            ],
            [
             0.1111111111111111,
             "#46039f"
            ],
            [
             0.2222222222222222,
             "#7201a8"
            ],
            [
             0.3333333333333333,
             "#9c179e"
            ],
            [
             0.4444444444444444,
             "#bd3786"
            ],
            [
             0.5555555555555556,
             "#d8576b"
            ],
            [
             0.6666666666666666,
             "#ed7953"
            ],
            [
             0.7777777777777778,
             "#fb9f3a"
            ],
            [
             0.8888888888888888,
             "#fdca26"
            ],
            [
             1,
             "#f0f921"
            ]
           ]
          },
          "colorway": [
           "#636efa",
           "#EF553B",
           "#00cc96",
           "#ab63fa",
           "#FFA15A",
           "#19d3f3",
           "#FF6692",
           "#B6E880",
           "#FF97FF",
           "#FECB52"
          ],
          "font": {
           "color": "#2a3f5f"
          },
          "geo": {
           "bgcolor": "white",
           "lakecolor": "white",
           "landcolor": "#E5ECF6",
           "showlakes": true,
           "showland": true,
           "subunitcolor": "white"
          },
          "hoverlabel": {
           "align": "left"
          },
          "hovermode": "closest",
          "mapbox": {
           "style": "light"
          },
          "paper_bgcolor": "white",
          "plot_bgcolor": "#E5ECF6",
          "polar": {
           "angularaxis": {
            "gridcolor": "white",
            "linecolor": "white",
            "ticks": ""
           },
           "bgcolor": "#E5ECF6",
           "radialaxis": {
            "gridcolor": "white",
            "linecolor": "white",
            "ticks": ""
           }
          },
          "scene": {
           "xaxis": {
            "backgroundcolor": "#E5ECF6",
            "gridcolor": "white",
            "gridwidth": 2,
            "linecolor": "white",
            "showbackground": true,
            "ticks": "",
            "zerolinecolor": "white"
           },
           "yaxis": {
            "backgroundcolor": "#E5ECF6",
            "gridcolor": "white",
            "gridwidth": 2,
            "linecolor": "white",
            "showbackground": true,
            "ticks": "",
            "zerolinecolor": "white"
           },
           "zaxis": {
            "backgroundcolor": "#E5ECF6",
            "gridcolor": "white",
            "gridwidth": 2,
            "linecolor": "white",
            "showbackground": true,
            "ticks": "",
            "zerolinecolor": "white"
           }
          },
          "shapedefaults": {
           "line": {
            "color": "#2a3f5f"
           }
          },
          "ternary": {
           "aaxis": {
            "gridcolor": "white",
            "linecolor": "white",
            "ticks": ""
           },
           "baxis": {
            "gridcolor": "white",
            "linecolor": "white",
            "ticks": ""
           },
           "bgcolor": "#E5ECF6",
           "caxis": {
            "gridcolor": "white",
            "linecolor": "white",
            "ticks": ""
           }
          },
          "title": {
           "x": 0.05
          },
          "xaxis": {
           "automargin": true,
           "gridcolor": "white",
           "linecolor": "white",
           "ticks": "",
           "title": {
            "standoff": 15
           },
           "zerolinecolor": "white",
           "zerolinewidth": 2
          },
          "yaxis": {
           "automargin": true,
           "gridcolor": "white",
           "linecolor": "white",
           "ticks": "",
           "title": {
            "standoff": 15
           },
           "zerolinecolor": "white",
           "zerolinewidth": 2
          }
         }
        },
        "title": {
         "text": "Customer Segment Distribution"
        }
       }
      },
      "image/png": "[encoded data removed]",
      "text/html": [
       "<div>                            <div id=\"1ff15edc-c7b9-4de4-97d0-f947719823ef\" class=\"plotly-graph-div\" style=\"height:525px; width:100%;\"></div>            <script type=\"text/javascript\">                require([\"plotly\"], function(Plotly) {                    window.PLOTLYENV=window.PLOTLYENV || {};                                    if (document.getElementById(\"1ff15edc-c7b9-4de4-97d0-f947719823ef\")) {                    Plotly.newPlot(                        \"1ff15edc-c7b9-4de4-97d0-f947719823ef\",                        [{\"link\":{\"color\":[\"#1f77b4\",\"#ff7f0e\",\"#2ca02c\",\"#d62728\",\"#9467bd\",\"#8c564b\",\"#e377c2\"],\"hoverlabel\":{\"bgcolor\":\"white\",\"font\":{\"size\":12}},\"source\":[0,0,0,0,0,0,0],\"target\":[1,2,3,4,5,6,7],\"value\":[37.67352800382958,22.355193872666348,19.243657252273817,11.967448539971278,4.571565342269028,4.02106270943035,0.1675442795595979]},\"node\":{\"color\":[\"#444444\",\"#1f77b4\",\"#ff7f0e\",\"#2ca02c\",\"#d62728\",\"#9467bd\",\"#8c564b\",\"#e377c2\"],\"label\":[\"All Customers\",\"Other\",\"Best Customer\",\"Lost Customers\",\"At Risk Customers\",\"New Customers\",\"Loyal Customers\",\"Potential Loyalists\"],\"line\":{\"color\":\"black\",\"width\":1},\"pad\":15,\"thickness\":25},\"type\":\"sankey\"}],                        {\"template\":{\"data\":{\"histogram2dcontour\":[{\"type\":\"histogram2dcontour\",\"colorbar\":{\"outlinewidth\":0,\"ticks\":\"\"},\"colorscale\":[[0.0,\"#0d0887\"],[0.1111111111111111,\"#46039f\"],[0.2222222222222222,\"#7201a8\"],[0.3333333333333333,\"#9c179e\"],[0.4444444444444444,\"#bd3786\"],[0.5555555555555556,\"#d8576b\"],[0.6666666666666666,\"#ed7953\"],[0.7777777777777778,\"#fb9f3a\"],[0.8888888888888888,\"#fdca26\"],[1.0,\"#f0f921\"]]}],\"choropleth\":[{\"type\":\"choropleth\",\"colorbar\":{\"outlinewidth\":0,\"ticks\":\"\"}}],\"histogram2d\":[{\"type\":\"histogram2d\",\"colorbar\":{\"outlinewidth\":0,\"ticks\":\"\"},\"colorscale\":[[0.0,\"#0d0887\"],[0.1111111111111111,\"#46039f\"],[0.2222222222222222,\"#7201a8\"],[0.3333333333333333,\"#9c179e\"],[0.4444444444444444,\"#bd3786\"],[0.5555555555555556,\"#d8576b\"],[0.6666666666666666,\"#ed7953\"],[0.7777777777777778,\"#fb9f3a\"],[0.8888888888888888,\"#fdca26\"],[1.0,\"#f0f921\"]]}],\"heatmap\":[{\"type\":\"heatmap\",\"colorbar\":{\"outlinewidth\":0,\"ticks\":\"\"},\"colorscale\":[[0.0,\"#0d0887\"],[0.1111111111111111,\"#46039f\"],[0.2222222222222222,\"#7201a8\"],[0.3333333333333333,\"#9c179e\"],[0.4444444444444444,\"#bd3786\"],[0.5555555555555556,\"#d8576b\"],[0.6666666666666666,\"#ed7953\"],[0.7777777777777778,\"#fb9f3a\"],[0.8888888888888888,\"#fdca26\"],[1.0,\"#f0f921\"]]}],\"heatmapgl\":[{\"type\":\"heatmapgl\",\"colorbar\":{\"outlinewidth\":0,\"ticks\":\"\"},\"colorscale\":[[0.0,\"#0d0887\"],[0.1111111111111111,\"#46039f\"],[0.2222222222222222,\"#7201a8\"],[0.3333333333333333,\"#9c179e\"],[0.4444444444444444,\"#bd3786\"],[0.5555555555555556,\"#d8576b\"],[0.6666666666666666,\"#ed7953\"],[0.7777777777777778,\"#fb9f3a\"],[0.8888888888888888,\"#fdca26\"],[1.0,\"#f0f921\"]]}],\"contourcarpet\":[{\"type\":\"contourcarpet\",\"colorbar\":{\"outlinewidth\":0,\"ticks\":\"\"}}],\"contour\":[{\"type\":\"contour\",\"colorbar\":{\"outlinewidth\":0,\"ticks\":\"\"},\"colorscale\":[[0.0,\"#0d0887\"],[0.1111111111111111,\"#46039f\"],[0.2222222222222222,\"#7201a8\"],[0.3333333333333333,\"#9c179e\"],[0.4444444444444444,\"#bd3786\"],[0.5555555555555556,\"#d8576b\"],[0.6666666666666666,\"#ed7953\"],[0.7777777777777778,\"#fb9f3a\"],[0.8888888888888888,\"#fdca26\"],[1.0,\"#f0f921\"]]}],\"surface\":[{\"type\":\"surface\",\"colorbar\":{\"outlinewidth\":0,\"ticks\":\"\"},\"colorscale\":[[0.0,\"#0d0887\"],[0.1111111111111111,\"#46039f\"],[0.2222222222222222,\"#7201a8\"],[0.3333333333333333,\"#9c179e\"],[0.4444444444444444,\"#bd3786\"],[0.5555555555555556,\"#d8576b\"],[0.6666666666666666,\"#ed7953\"],[0.7777777777777778,\"#fb9f3a\"],[0.8888888888888888,\"#fdca26\"],[1.0,\"#f0f921\"]]}],\"mesh3d\":[{\"type\":\"mesh3d\",\"colorbar\":{\"outlinewidth\":0,\"ticks\":\"\"}}],\"scatter\":[{\"fillpattern\":{\"fillmode\":\"overlay\",\"size\":10,\"solidity\":0.2},\"type\":\"scatter\"}],\"parcoords\":[{\"type\":\"parcoords\",\"line\":{\"colorbar\":{\"outlinewidth\":0,\"ticks\":\"\"}}}],\"scatterpolargl\":[{\"type\":\"scatterpolargl\",\"marker\":{\"colorbar\":{\"outlinewidth\":0,\"ticks\":\"\"}}}],\"bar\":[{\"error_x\":{\"color\":\"#2a3f5f\"},\"error_y\":{\"color\":\"#2a3f5f\"},\"marker\":{\"line\":{\"color\":\"#E5ECF6\",\"width\":0.5},\"pattern\":{\"fillmode\":\"overlay\",\"size\":10,\"solidity\":0.2}},\"type\":\"bar\"}],\"scattergeo\":[{\"type\":\"scattergeo\",\"marker\":{\"colorbar\":{\"outlinewidth\":0,\"ticks\":\"\"}}}],\"scatterpolar\":[{\"type\":\"scatterpolar\",\"marker\":{\"colorbar\":{\"outlinewidth\":0,\"ticks\":\"\"}}}],\"histogram\":[{\"marker\":{\"pattern\":{\"fillmode\":\"overlay\",\"size\":10,\"solidity\":0.2}},\"type\":\"histogram\"}],\"scattergl\":[{\"type\":\"scattergl\",\"marker\":{\"colorbar\":{\"outlinewidth\":0,\"ticks\":\"\"}}}],\"scatter3d\":[{\"type\":\"scatter3d\",\"line\":{\"colorbar\":{\"outlinewidth\":0,\"ticks\":\"\"}},\"marker\":{\"colorbar\":{\"outlinewidth\":0,\"ticks\":\"\"}}}],\"scattermapbox\":[{\"type\":\"scattermapbox\",\"marker\":{\"colorbar\":{\"outlinewidth\":0,\"ticks\":\"\"}}}],\"scatterternary\":[{\"type\":\"scatterternary\",\"marker\":{\"colorbar\":{\"outlinewidth\":0,\"ticks\":\"\"}}}],\"scattercarpet\":[{\"type\":\"scattercarpet\",\"marker\":{\"colorbar\":{\"outlinewidth\":0,\"ticks\":\"\"}}}],\"carpet\":[{\"aaxis\":{\"endlinecolor\":\"#2a3f5f\",\"gridcolor\":\"white\",\"linecolor\":\"white\",\"minorgridcolor\":\"white\",\"startlinecolor\":\"#2a3f5f\"},\"baxis\":{\"endlinecolor\":\"#2a3f5f\",\"gridcolor\":\"white\",\"linecolor\":\"white\",\"minorgridcolor\":\"white\",\"startlinecolor\":\"#2a3f5f\"},\"type\":\"carpet\"}],\"table\":[{\"cells\":{\"fill\":{\"color\":\"#EBF0F8\"},\"line\":{\"color\":\"white\"}},\"header\":{\"fill\":{\"color\":\"#C8D4E3\"},\"line\":{\"color\":\"white\"}},\"type\":\"table\"}],\"barpolar\":[{\"marker\":{\"line\":{\"color\":\"#E5ECF6\",\"width\":0.5},\"pattern\":{\"fillmode\":\"overlay\",\"size\":10,\"solidity\":0.2}},\"type\":\"barpolar\"}],\"pie\":[{\"automargin\":true,\"type\":\"pie\"}]},\"layout\":{\"autotypenumbers\":\"strict\",\"colorway\":[\"#636efa\",\"#EF553B\",\"#00cc96\",\"#ab63fa\",\"#FFA15A\",\"#19d3f3\",\"#FF6692\",\"#B6E880\",\"#FF97FF\",\"#FECB52\"],\"font\":{\"color\":\"#2a3f5f\"},\"hovermode\":\"closest\",\"hoverlabel\":{\"align\":\"left\"},\"paper_bgcolor\":\"white\",\"plot_bgcolor\":\"#E5ECF6\",\"polar\":{\"bgcolor\":\"#E5ECF6\",\"angularaxis\":{\"gridcolor\":\"white\",\"linecolor\":\"white\",\"ticks\":\"\"},\"radialaxis\":{\"gridcolor\":\"white\",\"linecolor\":\"white\",\"ticks\":\"\"}},\"ternary\":{\"bgcolor\":\"#E5ECF6\",\"aaxis\":{\"gridcolor\":\"white\",\"linecolor\":\"white\",\"ticks\":\"\"},\"baxis\":{\"gridcolor\":\"white\",\"linecolor\":\"white\",\"ticks\":\"\"},\"caxis\":{\"gridcolor\":\"white\",\"linecolor\":\"white\",\"ticks\":\"\"}},\"coloraxis\":{\"colorbar\":{\"outlinewidth\":0,\"ticks\":\"\"}},\"colorscale\":{\"sequential\":[[0.0,\"#0d0887\"],[0.1111111111111111,\"#46039f\"],[0.2222222222222222,\"#7201a8\"],[0.3333333333333333,\"#9c179e\"],[0.4444444444444444,\"#bd3786\"],[0.5555555555555556,\"#d8576b\"],[0.6666666666666666,\"#ed7953\"],[0.7777777777777778,\"#fb9f3a\"],[0.8888888888888888,\"#fdca26\"],[1.0,\"#f0f921\"]],\"sequentialminus\":[[0.0,\"#0d0887\"],[0.1111111111111111,\"#46039f\"],[0.2222222222222222,\"#7201a8\"],[0.3333333333333333,\"#9c179e\"],[0.4444444444444444,\"#bd3786\"],[0.5555555555555556,\"#d8576b\"],[0.6666666666666666,\"#ed7953\"],[0.7777777777777778,\"#fb9f3a\"],[0.8888888888888888,\"#fdca26\"],[1.0,\"#f0f921\"]],\"diverging\":[[0,\"#8e0152\"],[0.1,\"#c51b7d\"],[0.2,\"#de77ae\"],[0.3,\"#f1b6da\"],[0.4,\"#fde0ef\"],[0.5,\"#f7f7f7\"],[0.6,\"#e6f5d0\"],[0.7,\"#b8e186\"],[0.8,\"#7fbc41\"],[0.9,\"#4d9221\"],[1,\"#276419\"]]},\"xaxis\":{\"gridcolor\":\"white\",\"linecolor\":\"white\",\"ticks\":\"\",\"title\":{\"standoff\":15},\"zerolinecolor\":\"white\",\"automargin\":true,\"zerolinewidth\":2},\"yaxis\":{\"gridcolor\":\"white\",\"linecolor\":\"white\",\"ticks\":\"\",\"title\":{\"standoff\":15},\"zerolinecolor\":\"white\",\"automargin\":true,\"zerolinewidth\":2},\"scene\":{\"xaxis\":{\"backgroundcolor\":\"#E5ECF6\",\"gridcolor\":\"white\",\"linecolor\":\"white\",\"showbackground\":true,\"ticks\":\"\",\"zerolinecolor\":\"white\",\"gridwidth\":2},\"yaxis\":{\"backgroundcolor\":\"#E5ECF6\",\"gridcolor\":\"white\",\"linecolor\":\"white\",\"showbackground\":true,\"ticks\":\"\",\"zerolinecolor\":\"white\",\"gridwidth\":2},\"zaxis\":{\"backgroundcolor\":\"#E5ECF6\",\"gridcolor\":\"white\",\"linecolor\":\"white\",\"showbackground\":true,\"ticks\":\"\",\"zerolinecolor\":\"white\",\"gridwidth\":2}},\"shapedefaults\":{\"line\":{\"color\":\"#2a3f5f\"}},\"annotationdefaults\":{\"arrowcolor\":\"#2a3f5f\",\"arrowhead\":0,\"arrowwidth\":1},\"geo\":{\"bgcolor\":\"white\",\"landcolor\":\"#E5ECF6\",\"subunitcolor\":\"white\",\"showland\":true,\"showlakes\":true,\"lakecolor\":\"white\"},\"title\":{\"x\":0.05},\"mapbox\":{\"style\":\"light\"}}},\"title\":{\"text\":\"Customer Segment Distribution\"},\"font\":{\"size\":14}},                        {\"responsive\": true}                    ).then(function(){\n",
       "                            \n",
       "var gd = document.getElementById('1ff15edc-c7b9-4de4-97d0-f947719823ef');\n",
       "var x = new MutationObserver(function (mutations, observer) {{\n",
       "        var display = window.getComputedStyle(gd).display;\n",
       "        if (!display || display === 'none') {{\n",
       "            console.log([gd, 'removed!']);\n",
       "            Plotly.purge(gd);\n",
       "            observer.disconnect();\n",
       "        }}\n",
       "}});\n",
       "\n",
       "// Listen for the removal of the full notebook cells\n",
       "var notebookContainer = gd.closest('#notebook-container');\n",
       "if (notebookContainer) {{\n",
       "    x.observe(notebookContainer, {childList: true});\n",
       "}}\n",
       "\n",
       "// Listen for the clearing of the current output cell\n",
       "var outputEl = gd.closest('.output');\n",
       "if (outputEl) {{\n",
       "    x.observe(outputEl, {childList: true});\n",
       "}}\n",
       "\n",
       "                        })                };                });            </script>        </div>"
      ]
     },
     "metadata": {},
     "output_type": "display_data"
    }
   ],
   "source": [
    " \n",
    "\n",
    "segment_percent = df1.groupby(\"Customer_Segment\").size() * 100 / len(df1)\n",
    "segments = segment_percent.index.tolist()       \n",
    "values = segment_percent.values.tolist()  \n",
    "\n",
    "sorted_data = sorted(zip(segments, values), key=lambda x: x[1], reverse=True)\n",
    "segments_sorted, values_sorted = zip(*sorted_data)\n",
    "\n",
    "labels = [\"All Customers\"] + list(segments_sorted)\n",
    "source = [0] * len(segments_sorted)   \n",
    "target = list(range(1, len(labels)))\n",
    "\n",
    " \n",
    "colors = [\n",
    "    \"#1f77b4\",   \n",
    "    \"#ff7f0e\",   \n",
    "    \"#2ca02c\",   \n",
    "    \"#d62728\",   \n",
    "    \"#9467bd\",   \n",
    "    \"#8c564b\",   \n",
    "    \"#e377c2\",   \n",
    "    \"#7f7f7f\",   \n",
    "    \"#bcbd22\",   \n",
    "    \"#17becf\"    \n",
    "]\n",
    "\n",
    "fig = go.Figure(data=[go.Sankey(\n",
    "    node=dict(\n",
    "        label=labels,\n",
    "        pad=15,\n",
    "        thickness=25,\n",
    "        color=node_colors,\n",
    "        line=dict(color=\"black\", width=1)\n",
    "    ),\n",
    "    link=dict(\n",
    "        source=source,\n",
    "        target=target,\n",
    "        value=values_sorted,\n",
    "        color=colors[:len(source)],   \n",
    "        hoverlabel=dict(bgcolor=\"white\", font_size=12)\n",
    "    )\n",
    ")])\n",
    "fig.update_layout(title_text=\"Customer Segment Distribution\", font_size=14)\n",
    "fig.show()\n",
    "\n"
   ]
  },
  {
   "cell_type": "code",
   "execution_count": 538,
   "id": "78cc6b74-3820-45dc-854c-e86ba80c71d3",
   "metadata": {},
   "outputs": [
    {
     "data": {
      "image/png": "[encoded data removed]",
      "text/plain": [
       "<Figure size 1800x500 with 3 Axes>"
      ]
     },
     "metadata": {},
     "output_type": "display_data"
    }
   ],
   "source": [
    "fig,axes=plt.subplots(1,3,figsize=(18,5))\n",
    "data_set[['Recency', 'Frequency', 'Monetary']].hist(bins=50,ax=axes,color=\"green\",edgecolor=\"black\")\n",
    "axes[0].set_title('Recency Distribution')\n",
    "axes[1].set_title('Frequency Distribution')\n",
    "axes[2].set_title('Monetary Distribution')\n",
    "\n",
    "plt.tight_layout()\n",
    "plt.show()"
   ]
  },
  {
   "cell_type": "code",
   "execution_count": 424,
   "id": "b4f0a554-5a90-4076-85a7-5f18b73c49b9",
   "metadata": {},
   "outputs": [],
   "source": [
    "TotalSales_Revenue=df[\"TotalSale\"].sum()\n",
    "TotalQuantity_sold=df[\"Quantity\"].sum()\n"
   ]
  },
  {
   "cell_type": "code",
   "execution_count": 263,
   "id": "054c967e-ad40-4e13-a172-837002377457",
   "metadata": {},
   "outputs": [
    {
     "data": {
      "text/plain": [
       "Index(['InvoiceNo', 'StockCode', 'Description', 'Quantity', 'InvoiceDate',\n",
       "       'UnitPrice', 'CustomerID', 'Country', 'TotalPrice', 'Month',\n",
       "       'Month_name', 'Quarter'],\n",
       "      dtype='object')"
      ]
     },
     "execution_count": 263,
     "metadata": {},
     "output_type": "execute_result"
    }
   ],
   "source": [
    "df=df[df[\"InvoiceDate\"]>=\"2011-01-01\"]\n",
    "df[\"Month_name\"]=df[\"InvoiceDate\"].dt.month_name()\n",
    "df[\"Quarter\"]=\"Q\"+df[\"InvoiceDate\"].dt.quarter.astype(str)\n",
    "df.columns\n"
   ]
  },
  {
   "cell_type": "code",
   "execution_count": 309,
   "id": "db15d773-e489-4685-ba99-ac045de95621",
   "metadata": {},
   "outputs": [
    {
     "data": {
      "text/html": [
       "<div>\n",
       "<style scoped>\n",
       "    .dataframe tbody tr th:only-of-type {\n",
       "        vertical-align: middle;\n",
       "    }\n",
       "\n",
       "    .dataframe tbody tr th {\n",
       "        vertical-align: top;\n",
       "    }\n",
       "\n",
       "    .dataframe thead th {\n",
       "        text-align: right;\n",
       "    }\n",
       "</style>\n",
       "<table border=\"1\" class=\"dataframe\">\n",
       "  <thead>\n",
       "    <tr style=\"text-align: right;\">\n",
       "      <th></th>\n",
       "      <th>InvoiceNo</th>\n",
       "      <th>StockCode</th>\n",
       "      <th>Description</th>\n",
       "      <th>Quantity</th>\n",
       "      <th>InvoiceDate</th>\n",
       "      <th>UnitPrice</th>\n",
       "      <th>CustomerID</th>\n",
       "      <th>Country</th>\n",
       "      <th>TotalPrice</th>\n",
       "      <th>Month</th>\n",
       "      <th>Month_name</th>\n",
       "      <th>Quarter</th>\n",
       "    </tr>\n",
       "  </thead>\n",
       "  <tbody>\n",
       "    <tr>\n",
       "      <th>42557</th>\n",
       "      <td>C540006</td>\n",
       "      <td>21306</td>\n",
       "      <td>SET/4 DAISY MIRROR MAGNETS</td>\n",
       "      <td>-1.0</td>\n",
       "      <td>2011-01-04 10:48:00</td>\n",
       "      <td>2.10</td>\n",
       "      <td>Unknown</td>\n",
       "      <td>United Kingdom</td>\n",
       "      <td>-2.10</td>\n",
       "      <td>1</td>\n",
       "      <td>January</td>\n",
       "      <td>Q1</td>\n",
       "    </tr>\n",
       "    <tr>\n",
       "      <th>42558</th>\n",
       "      <td>C540006</td>\n",
       "      <td>84352</td>\n",
       "      <td>SILVER CHRISTMAS TREE BAUBLE STAND</td>\n",
       "      <td>-1.0</td>\n",
       "      <td>2011-01-04 10:48:00</td>\n",
       "      <td>16.95</td>\n",
       "      <td>Unknown</td>\n",
       "      <td>United Kingdom</td>\n",
       "      <td>-16.95</td>\n",
       "      <td>1</td>\n",
       "      <td>January</td>\n",
       "      <td>Q1</td>\n",
       "    </tr>\n",
       "    <tr>\n",
       "      <th>42559</th>\n",
       "      <td>C540006</td>\n",
       "      <td>22423</td>\n",
       "      <td>REGENCY CAKESTAND 3 TIER</td>\n",
       "      <td>-1.0</td>\n",
       "      <td>2011-01-04 10:48:00</td>\n",
       "      <td>12.75</td>\n",
       "      <td>Unknown</td>\n",
       "      <td>United Kingdom</td>\n",
       "      <td>-12.75</td>\n",
       "      <td>1</td>\n",
       "      <td>January</td>\n",
       "      <td>Q1</td>\n",
       "    </tr>\n",
       "    <tr>\n",
       "      <th>42560</th>\n",
       "      <td>C540007</td>\n",
       "      <td>21055</td>\n",
       "      <td>TOOL BOX SOFT TOY</td>\n",
       "      <td>-6.0</td>\n",
       "      <td>2011-01-04 11:08:00</td>\n",
       "      <td>8.95</td>\n",
       "      <td>Unknown</td>\n",
       "      <td>United Kingdom</td>\n",
       "      <td>-53.70</td>\n",
       "      <td>1</td>\n",
       "      <td>January</td>\n",
       "      <td>Q1</td>\n",
       "    </tr>\n",
       "    <tr>\n",
       "      <th>42561</th>\n",
       "      <td>C540007</td>\n",
       "      <td>22274</td>\n",
       "      <td>FELTCRAFT DOLL EMILY</td>\n",
       "      <td>-6.0</td>\n",
       "      <td>2011-01-04 11:08:00</td>\n",
       "      <td>2.95</td>\n",
       "      <td>Unknown</td>\n",
       "      <td>United Kingdom</td>\n",
       "      <td>-17.70</td>\n",
       "      <td>1</td>\n",
       "      <td>January</td>\n",
       "      <td>Q1</td>\n",
       "    </tr>\n",
       "    <tr>\n",
       "      <th>...</th>\n",
       "      <td>...</td>\n",
       "      <td>...</td>\n",
       "      <td>...</td>\n",
       "      <td>...</td>\n",
       "      <td>...</td>\n",
       "      <td>...</td>\n",
       "      <td>...</td>\n",
       "      <td>...</td>\n",
       "      <td>...</td>\n",
       "      <td>...</td>\n",
       "      <td>...</td>\n",
       "      <td>...</td>\n",
       "    </tr>\n",
       "    <tr>\n",
       "      <th>540449</th>\n",
       "      <td>C581490</td>\n",
       "      <td>23144</td>\n",
       "      <td>ZINC T-LIGHT HOLDER STARS SMALL</td>\n",
       "      <td>-11.0</td>\n",
       "      <td>2011-12-09 09:57:00</td>\n",
       "      <td>0.83</td>\n",
       "      <td>Unknown</td>\n",
       "      <td>United Kingdom</td>\n",
       "      <td>-9.13</td>\n",
       "      <td>12</td>\n",
       "      <td>December</td>\n",
       "      <td>Q4</td>\n",
       "    </tr>\n",
       "    <tr>\n",
       "      <th>541541</th>\n",
       "      <td>C581499</td>\n",
       "      <td>M</td>\n",
       "      <td>Manual</td>\n",
       "      <td>-1.0</td>\n",
       "      <td>2011-12-09 10:28:00</td>\n",
       "      <td>224.69</td>\n",
       "      <td>Unknown</td>\n",
       "      <td>United Kingdom</td>\n",
       "      <td>-224.69</td>\n",
       "      <td>12</td>\n",
       "      <td>December</td>\n",
       "      <td>Q4</td>\n",
       "    </tr>\n",
       "    <tr>\n",
       "      <th>541715</th>\n",
       "      <td>C581568</td>\n",
       "      <td>21258</td>\n",
       "      <td>VICTORIAN SEWING BOX LARGE</td>\n",
       "      <td>-5.0</td>\n",
       "      <td>2011-12-09 11:57:00</td>\n",
       "      <td>10.95</td>\n",
       "      <td>Unknown</td>\n",
       "      <td>United Kingdom</td>\n",
       "      <td>-54.75</td>\n",
       "      <td>12</td>\n",
       "      <td>December</td>\n",
       "      <td>Q4</td>\n",
       "    </tr>\n",
       "    <tr>\n",
       "      <th>541716</th>\n",
       "      <td>C581569</td>\n",
       "      <td>84978</td>\n",
       "      <td>HANGING HEART JAR T-LIGHT HOLDER</td>\n",
       "      <td>-1.0</td>\n",
       "      <td>2011-12-09 11:58:00</td>\n",
       "      <td>1.25</td>\n",
       "      <td>Unknown</td>\n",
       "      <td>United Kingdom</td>\n",
       "      <td>-1.25</td>\n",
       "      <td>12</td>\n",
       "      <td>December</td>\n",
       "      <td>Q4</td>\n",
       "    </tr>\n",
       "    <tr>\n",
       "      <th>541717</th>\n",
       "      <td>C581569</td>\n",
       "      <td>20979</td>\n",
       "      <td>36 PENCILS TUBE RED RETROSPOT</td>\n",
       "      <td>-5.0</td>\n",
       "      <td>2011-12-09 11:58:00</td>\n",
       "      <td>1.25</td>\n",
       "      <td>Unknown</td>\n",
       "      <td>United Kingdom</td>\n",
       "      <td>-6.25</td>\n",
       "      <td>12</td>\n",
       "      <td>December</td>\n",
       "      <td>Q4</td>\n",
       "    </tr>\n",
       "  </tbody>\n",
       "</table>\n",
       "<p>9026 rows × 12 columns</p>\n",
       "</div>"
      ],
      "text/plain": [
       "       InvoiceNo StockCode                          Description  Quantity  \\\n",
       "42557    C540006     21306           SET/4 DAISY MIRROR MAGNETS      -1.0   \n",
       "42558    C540006     84352  SILVER CHRISTMAS TREE BAUBLE STAND       -1.0   \n",
       "42559    C540006     22423             REGENCY CAKESTAND 3 TIER      -1.0   \n",
       "42560    C540007     21055                   TOOL BOX SOFT TOY       -6.0   \n",
       "42561    C540007     22274                 FELTCRAFT DOLL EMILY      -6.0   \n",
       "...          ...       ...                                  ...       ...   \n",
       "540449   C581490     23144      ZINC T-LIGHT HOLDER STARS SMALL     -11.0   \n",
       "541541   C581499         M                               Manual      -1.0   \n",
       "541715   C581568     21258           VICTORIAN SEWING BOX LARGE      -5.0   \n",
       "541716   C581569     84978     HANGING HEART JAR T-LIGHT HOLDER      -1.0   \n",
       "541717   C581569     20979        36 PENCILS TUBE RED RETROSPOT      -5.0   \n",
       "\n",
       "               InvoiceDate  UnitPrice CustomerID         Country  TotalPrice  \\\n",
       "42557  2011-01-04 10:48:00       2.10    Unknown  United Kingdom       -2.10   \n",
       "42558  2011-01-04 10:48:00      16.95    Unknown  United Kingdom      -16.95   \n",
       "42559  2011-01-04 10:48:00      12.75    Unknown  United Kingdom      -12.75   \n",
       "42560  2011-01-04 11:08:00       8.95    Unknown  United Kingdom      -53.70   \n",
       "42561  2011-01-04 11:08:00       2.95    Unknown  United Kingdom      -17.70   \n",
       "...                    ...        ...        ...             ...         ...   \n",
       "540449 2011-12-09 09:57:00       0.83    Unknown  United Kingdom       -9.13   \n",
       "541541 2011-12-09 10:28:00     224.69    Unknown  United Kingdom     -224.69   \n",
       "541715 2011-12-09 11:57:00      10.95    Unknown  United Kingdom      -54.75   \n",
       "541716 2011-12-09 11:58:00       1.25    Unknown  United Kingdom       -1.25   \n",
       "541717 2011-12-09 11:58:00       1.25    Unknown  United Kingdom       -6.25   \n",
       "\n",
       "        Month Month_name Quarter  \n",
       "42557       1    January      Q1  \n",
       "42558       1    January      Q1  \n",
       "42559       1    January      Q1  \n",
       "42560       1    January      Q1  \n",
       "42561       1    January      Q1  \n",
       "...       ...        ...     ...  \n",
       "540449     12   December      Q4  \n",
       "541541     12   December      Q4  \n",
       "541715     12   December      Q4  \n",
       "541716     12   December      Q4  \n",
       "541717     12   December      Q4  \n",
       "\n",
       "[9026 rows x 12 columns]"
      ]
     },
     "execution_count": 309,
     "metadata": {},
     "output_type": "execute_result"
    }
   ],
   "source": [
    "Month_Wise_sale=df.groupby([\"Month\",\"Month_name\"])[\"TotalPrice\"].sum().reset_index(name=\"Month_wise_sale\")\n",
    "Month_Wise_sale=Month_Wise_sale.sort_values(by=\"Month\").set_index(\"Month\")\n",
    "Quarter_wise_sale=df.groupby(\"Quarter\")[\"TotalPrice\"].sum().reset_index(name=\"quarterlysale\").sort_values(by=\"Quarter\")\n",
    " \n",
    "def cal_metrics(df,group_by,value,output_col,sort_by):\n",
    "    return df.groupby(group_by)[value].sum().reset_index(name=output_col).sort_values(by=sort_by)\n",
    "    \n",
    "group_by=['StockCode', 'Description',\"Month\",\"Month_name\"]\n",
    "monthly_revenue = cal_metrics(df, group_by, 'TotalPrice', 'Product_Monthly_Revenue', 'Month')\n",
    "monthly_quantity = cal_metrics(df, group_by, 'Quantity', 'Product_Monthly_Quantity', 'Month')\n",
    "\n",
    "def cal_qrt(df,group_by,value,output_col,sort_by):\n",
    "    return df.groupby(group_by)[value].sum().reset_index(name=output_col).sort_values(by=sort_by)\n",
    "    \n",
    "group_by=['StockCode', 'Description',\"Quarter\"]\n",
    "quartly_revenue=cal_qrt(df,group_by,\"TotalPrice\",\"Product_quarterly_Revenue\",\"Quarter\")\n",
    "quartly_quantity=cal_qrt(df,group_by,\"Quantity\",\"Product_quarterly_quantity\",\"Quarter\")\n",
    "negative=df[ df[\"Quantity\"]<0]\n",
    "negative\n"
   ]
  },
  {
   "cell_type": "code",
   "execution_count": null,
   "id": "8559acab-921d-47a1-babf-c0bf45d504b0",
   "metadata": {},
   "outputs": [],
   "source": []
  }
 ],
 "metadata": {
  "kernelspec": {
   "display_name": "Python [conda env:base] *",
   "language": "python",
   "name": "conda-base-py"
  },
  "language_info": {
   "codemirror_mode": {
    "name": "ipython",
    "version": 3
   },
   "file_extension": ".py",
   "mimetype": "text/x-python",
   "name": "python",
   "nbconvert_exporter": "python",
   "pygments_lexer": "ipython3",
   "version": "3.12.7"
  }
 },
 "nbformat": 4,
 "nbformat_minor": 5
}
